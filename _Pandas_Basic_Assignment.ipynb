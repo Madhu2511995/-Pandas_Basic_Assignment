{
 "cells": [
  {
   "cell_type": "markdown",
   "id": "7e233247-0855-42d9-8dfe-1526560e68de",
   "metadata": {},
   "source": [
    "#### Q1. Create a Pandas Series that contains the following data: 4, 8, 15, 16, 23, and 42. Then, print the series.\n",
    "#### Q2. Create a variable of list type containing 10 elements in it, and apply pandas.Series function on the variable print it.\n",
    "#### Q3. Create a Pandas DataFrame that contains the following data:\n",
    "\n",
    "Then, print the DataFrame.\n",
    "#### Q4. What is ‘DataFrame’ in pandas and how is it different from pandas.series? Explain with an example.\n",
    "#### Q5. What are some common functions you can use to manipulate data in a Pandas DataFrame? Can you give an example of when you might use one of these functions?\n",
    "#### Q6. Which of the following is mutable in nature Series, DataFrame, Panel?\n",
    "#### Q7. Create a DataFrame using multiple Series. Explain with an example."
   ]
  },
  {
   "cell_type": "markdown",
   "id": "b98349ff-0ef0-4ca6-b444-7f65109c5d88",
   "metadata": {},
   "source": [
    "## Answers"
   ]
  },
  {
   "cell_type": "markdown",
   "id": "3636b774-4d8c-4cee-99ba-3b15a0f911c8",
   "metadata": {},
   "source": [
    "### Q1. Create a Pandas Series that contains the following data: 4, 8, 15, 16, 23, and 42. Then, print the series."
   ]
  },
  {
   "cell_type": "code",
   "execution_count": 6,
   "id": "30d5c096-cdc9-4bdd-a2fb-e5223cffe509",
   "metadata": {},
   "outputs": [],
   "source": [
    "import pandas as pd\n",
    "ps=pd.Series([4,8,15,16,23,42])"
   ]
  },
  {
   "cell_type": "code",
   "execution_count": 7,
   "id": "a8325525-499b-4fc5-832c-5ebadef82e9c",
   "metadata": {},
   "outputs": [
    {
     "data": {
      "text/plain": [
       "0     4\n",
       "1     8\n",
       "2    15\n",
       "3    16\n",
       "4    23\n",
       "5    42\n",
       "dtype: int64"
      ]
     },
     "execution_count": 7,
     "metadata": {},
     "output_type": "execute_result"
    }
   ],
   "source": [
    "ps"
   ]
  },
  {
   "cell_type": "code",
   "execution_count": 8,
   "id": "fe4fc08c-b749-4148-8a6d-ca2d356c5749",
   "metadata": {},
   "outputs": [
    {
     "data": {
      "text/plain": [
       "pandas.core.series.Series"
      ]
     },
     "execution_count": 8,
     "metadata": {},
     "output_type": "execute_result"
    }
   ],
   "source": [
    "type(ps)"
   ]
  },
  {
   "cell_type": "markdown",
   "id": "ac1d8f6f-de2f-4ab7-bd49-f21ddb45257f",
   "metadata": {},
   "source": [
    "## Q2. Create a variable of list type containing 10 elements in it, and apply pandas.Series function on the variable print it."
   ]
  },
  {
   "cell_type": "code",
   "execution_count": 9,
   "id": "ed8fbe06-8905-47ff-bbc2-263c4be25b70",
   "metadata": {},
   "outputs": [
    {
     "data": {
      "text/plain": [
       "0     1\n",
       "1     2\n",
       "2     3\n",
       "3     4\n",
       "4     5\n",
       "5     6\n",
       "6     7\n",
       "7     8\n",
       "8     9\n",
       "9    10\n",
       "dtype: int64"
      ]
     },
     "execution_count": 9,
     "metadata": {},
     "output_type": "execute_result"
    }
   ],
   "source": [
    "l=[1,2,3,4,5,6,7,8,9,10]\n",
    "ps1=pd.Series(l)\n",
    "ps1"
   ]
  },
  {
   "cell_type": "code",
   "execution_count": 10,
   "id": "d9f3562f-8d83-4a71-b1d8-79c677f34bef",
   "metadata": {},
   "outputs": [
    {
     "data": {
      "text/html": [
       "<div>\n",
       "<style scoped>\n",
       "    .dataframe tbody tr th:only-of-type {\n",
       "        vertical-align: middle;\n",
       "    }\n",
       "\n",
       "    .dataframe tbody tr th {\n",
       "        vertical-align: top;\n",
       "    }\n",
       "\n",
       "    .dataframe thead th {\n",
       "        text-align: right;\n",
       "    }\n",
       "</style>\n",
       "<table border=\"1\" class=\"dataframe\">\n",
       "  <thead>\n",
       "    <tr style=\"text-align: right;\">\n",
       "      <th></th>\n",
       "      <th>Name</th>\n",
       "      <th>Age</th>\n",
       "      <th>Gender</th>\n",
       "    </tr>\n",
       "  </thead>\n",
       "  <tbody>\n",
       "    <tr>\n",
       "      <th>0</th>\n",
       "      <td>Alics</td>\n",
       "      <td>25</td>\n",
       "      <td>Female</td>\n",
       "    </tr>\n",
       "    <tr>\n",
       "      <th>1</th>\n",
       "      <td>Bob</td>\n",
       "      <td>30</td>\n",
       "      <td>Male</td>\n",
       "    </tr>\n",
       "    <tr>\n",
       "      <th>2</th>\n",
       "      <td>Claire</td>\n",
       "      <td>27</td>\n",
       "      <td>Female</td>\n",
       "    </tr>\n",
       "  </tbody>\n",
       "</table>\n",
       "</div>"
      ],
      "text/plain": [
       "     Name  Age  Gender\n",
       "0   Alics   25  Female\n",
       "1     Bob   30    Male\n",
       "2  Claire   27  Female"
      ]
     },
     "execution_count": 10,
     "metadata": {},
     "output_type": "execute_result"
    }
   ],
   "source": [
    "d={\"Name\":[\"Alics\",\"Bob\",\"Claire\"],\n",
    "   \"Age\":[25,30,27],\n",
    "   \"Gender\":[\"Female\",\"Male\",\"Female\"]\n",
    "  }\n",
    "df=pd.DataFrame(d)\n",
    "df"
   ]
  },
  {
   "cell_type": "markdown",
   "id": "f7ff2a37-5257-45ac-a7c9-8df215161021",
   "metadata": {},
   "source": [
    "## Q4. What is ‘DataFrame’ in pandas and how is it different from pandas.series? Explain with an example.¶"
   ]
  },
  {
   "cell_type": "markdown",
   "id": "29693072-30bd-4bdc-8cf5-bd09f70c4ef0",
   "metadata": {},
   "source": [
    "#### DataFrame :\n",
    "\n",
    "'DataFrame' is a two-dimensional data structure that represents tabular data, similar to a spreadsheet or a SQL table. It is one of the core data structures provided by the pandas library and is particularly useful for data manipulation, analysis, and cleaning. A DataFrame consists of rows and columns, where each column can hold data of a different type (e.g., integers, floats, strings, etc.)."
   ]
  },
  {
   "cell_type": "markdown",
   "id": "904c74cf-20fd-4be6-8186-8178b01ae507",
   "metadata": {},
   "source": [
    "#### series :\n",
    "\n",
    "'pandas.Series' is a one-dimensional array-like object that can hold a variety of data types, similar to a Python list or a NumPy array. It is a fundamental data structure in pandas and can be considered as a single column of data with a labeled index. A Series can be thought of as a single column of a DataFrame."
   ]
  },
  {
   "cell_type": "markdown",
   "id": "3889d935-4f5e-4022-b4c1-485f50396798",
   "metadata": {},
   "source": [
    "## Q5. What are some common functions you can use to manipulate data in a Pandas DataFrame? Can you give an example of when you might use one of these functions?¶"
   ]
  },
  {
   "cell_type": "markdown",
   "id": "95d624d5-7834-47df-887e-bea9a9918935",
   "metadata": {},
   "source": [
    "#### 1. df.head(n) : \n",
    "Returns the first 'n' rows of the DataFrame. Useful for quickly inspecting the initial data."
   ]
  },
  {
   "cell_type": "code",
   "execution_count": 11,
   "id": "e1d4b951-9cf5-4a21-8fa5-50c5251f4414",
   "metadata": {},
   "outputs": [
    {
     "data": {
      "text/html": [
       "<div>\n",
       "<style scoped>\n",
       "    .dataframe tbody tr th:only-of-type {\n",
       "        vertical-align: middle;\n",
       "    }\n",
       "\n",
       "    .dataframe tbody tr th {\n",
       "        vertical-align: top;\n",
       "    }\n",
       "\n",
       "    .dataframe thead th {\n",
       "        text-align: right;\n",
       "    }\n",
       "</style>\n",
       "<table border=\"1\" class=\"dataframe\">\n",
       "  <thead>\n",
       "    <tr style=\"text-align: right;\">\n",
       "      <th></th>\n",
       "      <th>Name</th>\n",
       "      <th>Age</th>\n",
       "      <th>Gender</th>\n",
       "    </tr>\n",
       "  </thead>\n",
       "  <tbody>\n",
       "    <tr>\n",
       "      <th>0</th>\n",
       "      <td>Alics</td>\n",
       "      <td>25</td>\n",
       "      <td>Female</td>\n",
       "    </tr>\n",
       "    <tr>\n",
       "      <th>1</th>\n",
       "      <td>Bob</td>\n",
       "      <td>30</td>\n",
       "      <td>Male</td>\n",
       "    </tr>\n",
       "  </tbody>\n",
       "</table>\n",
       "</div>"
      ],
      "text/plain": [
       "    Name  Age  Gender\n",
       "0  Alics   25  Female\n",
       "1    Bob   30    Male"
      ]
     },
     "execution_count": 11,
     "metadata": {},
     "output_type": "execute_result"
    }
   ],
   "source": [
    "df.head(2)"
   ]
  },
  {
   "cell_type": "markdown",
   "id": "e85e8100-f740-4bfd-85eb-0b21e6cb2314",
   "metadata": {},
   "source": [
    "#### 2. df.head(n) :\n",
    "Returns the first 'n' rows of the DataFrame. Useful for quickly inspecting the initial data."
   ]
  },
  {
   "cell_type": "code",
   "execution_count": 12,
   "id": "2c072c51-8fa9-4fc5-909f-57479b384aba",
   "metadata": {},
   "outputs": [
    {
     "data": {
      "text/html": [
       "<div>\n",
       "<style scoped>\n",
       "    .dataframe tbody tr th:only-of-type {\n",
       "        vertical-align: middle;\n",
       "    }\n",
       "\n",
       "    .dataframe tbody tr th {\n",
       "        vertical-align: top;\n",
       "    }\n",
       "\n",
       "    .dataframe thead th {\n",
       "        text-align: right;\n",
       "    }\n",
       "</style>\n",
       "<table border=\"1\" class=\"dataframe\">\n",
       "  <thead>\n",
       "    <tr style=\"text-align: right;\">\n",
       "      <th></th>\n",
       "      <th>Name</th>\n",
       "      <th>Age</th>\n",
       "      <th>Gender</th>\n",
       "    </tr>\n",
       "  </thead>\n",
       "  <tbody>\n",
       "    <tr>\n",
       "      <th>2</th>\n",
       "      <td>Claire</td>\n",
       "      <td>27</td>\n",
       "      <td>Female</td>\n",
       "    </tr>\n",
       "  </tbody>\n",
       "</table>\n",
       "</div>"
      ],
      "text/plain": [
       "     Name  Age  Gender\n",
       "2  Claire   27  Female"
      ]
     },
     "execution_count": 12,
     "metadata": {},
     "output_type": "execute_result"
    }
   ],
   "source": [
    "df.tail(1)"
   ]
  },
  {
   "cell_type": "markdown",
   "id": "ae2378b2-a01d-4b82-8a3c-19cc68e21789",
   "metadata": {},
   "source": [
    "#### 3. df.info() : \n",
    "Provides a concise summary of the DataFrame, including the data types and non-null values in each column. Useful for data inspection and identifying missing values."
   ]
  },
  {
   "cell_type": "code",
   "execution_count": 13,
   "id": "7e828bce-9c0f-4516-9f67-30fc071ac084",
   "metadata": {},
   "outputs": [
    {
     "name": "stdout",
     "output_type": "stream",
     "text": [
      "<class 'pandas.core.frame.DataFrame'>\n",
      "RangeIndex: 3 entries, 0 to 2\n",
      "Data columns (total 3 columns):\n",
      " #   Column  Non-Null Count  Dtype \n",
      "---  ------  --------------  ----- \n",
      " 0   Name    3 non-null      object\n",
      " 1   Age     3 non-null      int64 \n",
      " 2   Gender  3 non-null      object\n",
      "dtypes: int64(1), object(2)\n",
      "memory usage: 200.0+ bytes\n"
     ]
    }
   ],
   "source": [
    "df.info()"
   ]
  },
  {
   "cell_type": "markdown",
   "id": "dc680465-df5b-4164-91c4-270faa3a19eb",
   "metadata": {},
   "source": [
    "#### 4. df.describe() :\n",
    "Generates descriptive statistics of the numerical columns in the DataFrame, such as count, mean, standard deviation, minimum, and maximum. Useful for getting a quick overview of the data distribution.\n",
    "python\n"
   ]
  },
  {
   "cell_type": "code",
   "execution_count": 14,
   "id": "0bf7ba8b-24dd-4449-8c16-0bac88797d83",
   "metadata": {},
   "outputs": [
    {
     "data": {
      "text/html": [
       "<div>\n",
       "<style scoped>\n",
       "    .dataframe tbody tr th:only-of-type {\n",
       "        vertical-align: middle;\n",
       "    }\n",
       "\n",
       "    .dataframe tbody tr th {\n",
       "        vertical-align: top;\n",
       "    }\n",
       "\n",
       "    .dataframe thead th {\n",
       "        text-align: right;\n",
       "    }\n",
       "</style>\n",
       "<table border=\"1\" class=\"dataframe\">\n",
       "  <thead>\n",
       "    <tr style=\"text-align: right;\">\n",
       "      <th></th>\n",
       "      <th>Age</th>\n",
       "    </tr>\n",
       "  </thead>\n",
       "  <tbody>\n",
       "    <tr>\n",
       "      <th>count</th>\n",
       "      <td>3.000000</td>\n",
       "    </tr>\n",
       "    <tr>\n",
       "      <th>mean</th>\n",
       "      <td>27.333333</td>\n",
       "    </tr>\n",
       "    <tr>\n",
       "      <th>std</th>\n",
       "      <td>2.516611</td>\n",
       "    </tr>\n",
       "    <tr>\n",
       "      <th>min</th>\n",
       "      <td>25.000000</td>\n",
       "    </tr>\n",
       "    <tr>\n",
       "      <th>25%</th>\n",
       "      <td>26.000000</td>\n",
       "    </tr>\n",
       "    <tr>\n",
       "      <th>50%</th>\n",
       "      <td>27.000000</td>\n",
       "    </tr>\n",
       "    <tr>\n",
       "      <th>75%</th>\n",
       "      <td>28.500000</td>\n",
       "    </tr>\n",
       "    <tr>\n",
       "      <th>max</th>\n",
       "      <td>30.000000</td>\n",
       "    </tr>\n",
       "  </tbody>\n",
       "</table>\n",
       "</div>"
      ],
      "text/plain": [
       "             Age\n",
       "count   3.000000\n",
       "mean   27.333333\n",
       "std     2.516611\n",
       "min    25.000000\n",
       "25%    26.000000\n",
       "50%    27.000000\n",
       "75%    28.500000\n",
       "max    30.000000"
      ]
     },
     "execution_count": 14,
     "metadata": {},
     "output_type": "execute_result"
    }
   ],
   "source": [
    "df.describe()"
   ]
  },
  {
   "cell_type": "markdown",
   "id": "0961ddae-d8a8-4793-8bdc-5bfe98bed30e",
   "metadata": {},
   "source": [
    "#### 5. df.sort_values(by=) : \n",
    "Sorts the DataFrame based on the values in one or more columns. Useful for arranging data in a specific order."
   ]
  },
  {
   "cell_type": "code",
   "execution_count": 16,
   "id": "2821fa0e-aceb-4fb1-a106-38c470d1ebbd",
   "metadata": {},
   "outputs": [
    {
     "data": {
      "text/html": [
       "<div>\n",
       "<style scoped>\n",
       "    .dataframe tbody tr th:only-of-type {\n",
       "        vertical-align: middle;\n",
       "    }\n",
       "\n",
       "    .dataframe tbody tr th {\n",
       "        vertical-align: top;\n",
       "    }\n",
       "\n",
       "    .dataframe thead th {\n",
       "        text-align: right;\n",
       "    }\n",
       "</style>\n",
       "<table border=\"1\" class=\"dataframe\">\n",
       "  <thead>\n",
       "    <tr style=\"text-align: right;\">\n",
       "      <th></th>\n",
       "      <th>Name</th>\n",
       "      <th>Age</th>\n",
       "      <th>Gender</th>\n",
       "    </tr>\n",
       "  </thead>\n",
       "  <tbody>\n",
       "    <tr>\n",
       "      <th>0</th>\n",
       "      <td>Alics</td>\n",
       "      <td>25</td>\n",
       "      <td>Female</td>\n",
       "    </tr>\n",
       "    <tr>\n",
       "      <th>2</th>\n",
       "      <td>Claire</td>\n",
       "      <td>27</td>\n",
       "      <td>Female</td>\n",
       "    </tr>\n",
       "    <tr>\n",
       "      <th>1</th>\n",
       "      <td>Bob</td>\n",
       "      <td>30</td>\n",
       "      <td>Male</td>\n",
       "    </tr>\n",
       "  </tbody>\n",
       "</table>\n",
       "</div>"
      ],
      "text/plain": [
       "     Name  Age  Gender\n",
       "0   Alics   25  Female\n",
       "2  Claire   27  Female\n",
       "1     Bob   30    Male"
      ]
     },
     "execution_count": 16,
     "metadata": {},
     "output_type": "execute_result"
    }
   ],
   "source": [
    "df.sort_values(by=\"Age\")"
   ]
  },
  {
   "cell_type": "markdown",
   "id": "c963e0d3-a19b-4d3b-91ed-c895e7913456",
   "metadata": {},
   "source": [
    "## Q6. Which of the following is mutable in nature Series, DataFrame, Panel?"
   ]
  },
  {
   "cell_type": "markdown",
   "id": "db83cc91-c7dc-4c7f-9dc8-6c37d9eff0ad",
   "metadata": {},
   "source": [
    "1. Series :\n",
    "---------------\n",
    "A Series in pandas is a one-dimensional array-like object and is immutable. Once a Series is created, you cannot modify its elements directly. Instead, you need to create a new Series if you want to make changes to the data."
   ]
  },
  {
   "cell_type": "markdown",
   "id": "434a0c71-7b2e-49f3-9552-c5ff89e6510a",
   "metadata": {},
   "source": [
    "2. DataFrame :\n",
    "-------------------\n",
    "A DataFrame in pandas is a two-dimensional tabular data structure, and it is mutable. You can add or remove columns, modify existing data, or perform various data manipulation operations on a DataFrame without creating a new DataFrame each time."
   ]
  },
  {
   "cell_type": "markdown",
   "id": "b4379121-7334-4ff8-8a8f-aa68b9e016b3",
   "metadata": {},
   "source": [
    "3. Panel : \n",
    "--------------\n",
    "In earlier versions of pandas, there was a data structure called 'Panel,' which represented three-dimensional data. However, it was deprecated and removed in later versions. As of pandas 1.0.0, 'Panel' is no longer available in pandas, and users are encouraged to use 'DataFrame' or 'MultiIndex DataFrame' for more complex data representation."
   ]
  },
  {
   "cell_type": "markdown",
   "id": "2f06d3ca-0e65-4eb2-b91d-138004894848",
   "metadata": {},
   "source": [
    "Note : Only DataFrame is mutable"
   ]
  },
  {
   "cell_type": "markdown",
   "id": "b1283904-8579-407a-a7b0-4ae7f07bc550",
   "metadata": {},
   "source": [
    "## Q7. Create a DataFrame using multiple Series. Explain with an example."
   ]
  },
  {
   "cell_type": "code",
   "execution_count": 17,
   "id": "990f45d7-3f80-4ab7-b005-2f57ccb75365",
   "metadata": {},
   "outputs": [],
   "source": [
    "ps2=pd.Series([10,20,30,40])\n",
    "ps3=pd.Series([\"A\",\"B\",\"C\",\"D\"])"
   ]
  },
  {
   "cell_type": "code",
   "execution_count": 18,
   "id": "b7596d0f-eb01-4f23-b834-e5e312da3822",
   "metadata": {},
   "outputs": [
    {
     "data": {
      "text/plain": [
       "0    10\n",
       "1    20\n",
       "2    30\n",
       "3    40\n",
       "dtype: int64"
      ]
     },
     "execution_count": 18,
     "metadata": {},
     "output_type": "execute_result"
    }
   ],
   "source": [
    "ps2"
   ]
  },
  {
   "cell_type": "code",
   "execution_count": 19,
   "id": "7e562f5b-3289-4b87-ade0-67da9500eb77",
   "metadata": {},
   "outputs": [
    {
     "data": {
      "text/plain": [
       "0    A\n",
       "1    B\n",
       "2    C\n",
       "3    D\n",
       "dtype: object"
      ]
     },
     "execution_count": 19,
     "metadata": {},
     "output_type": "execute_result"
    }
   ],
   "source": [
    "ps3"
   ]
  },
  {
   "cell_type": "code",
   "execution_count": 24,
   "id": "1bc3ba20-8b6d-4ba2-b822-723f88df1529",
   "metadata": {},
   "outputs": [],
   "source": [
    "df3=pd.DataFrame({\"Roll_No\":ps2,\"Name\":ps3})"
   ]
  },
  {
   "cell_type": "code",
   "execution_count": 25,
   "id": "b8645252-4082-40df-91ed-9cf34f10ab15",
   "metadata": {},
   "outputs": [
    {
     "data": {
      "text/html": [
       "<div>\n",
       "<style scoped>\n",
       "    .dataframe tbody tr th:only-of-type {\n",
       "        vertical-align: middle;\n",
       "    }\n",
       "\n",
       "    .dataframe tbody tr th {\n",
       "        vertical-align: top;\n",
       "    }\n",
       "\n",
       "    .dataframe thead th {\n",
       "        text-align: right;\n",
       "    }\n",
       "</style>\n",
       "<table border=\"1\" class=\"dataframe\">\n",
       "  <thead>\n",
       "    <tr style=\"text-align: right;\">\n",
       "      <th></th>\n",
       "      <th>Roll_No</th>\n",
       "      <th>Name</th>\n",
       "    </tr>\n",
       "  </thead>\n",
       "  <tbody>\n",
       "    <tr>\n",
       "      <th>0</th>\n",
       "      <td>10</td>\n",
       "      <td>A</td>\n",
       "    </tr>\n",
       "    <tr>\n",
       "      <th>1</th>\n",
       "      <td>20</td>\n",
       "      <td>B</td>\n",
       "    </tr>\n",
       "    <tr>\n",
       "      <th>2</th>\n",
       "      <td>30</td>\n",
       "      <td>C</td>\n",
       "    </tr>\n",
       "    <tr>\n",
       "      <th>3</th>\n",
       "      <td>40</td>\n",
       "      <td>D</td>\n",
       "    </tr>\n",
       "  </tbody>\n",
       "</table>\n",
       "</div>"
      ],
      "text/plain": [
       "   Roll_No Name\n",
       "0       10    A\n",
       "1       20    B\n",
       "2       30    C\n",
       "3       40    D"
      ]
     },
     "execution_count": 25,
     "metadata": {},
     "output_type": "execute_result"
    }
   ],
   "source": [
    "df3"
   ]
  },
  {
   "cell_type": "markdown",
   "id": "32aae31d-06a8-46bd-b2ef-e353efa7c392",
   "metadata": {},
   "source": [
    "1. Each Series will form a column of the DataFrame, and they should have the same length to align properly."
   ]
  },
  {
   "cell_type": "markdown",
   "id": "8480beb5-f8c9-4c0a-9ebc-75c3f8f5b4f7",
   "metadata": {},
   "source": [
    "2. create a simple example where we have two Series, one representing the names of students and another representing their corresponding roll numbers. We'll then combine these Series into a DataFrame:"
   ]
  },
  {
   "cell_type": "code",
   "execution_count": null,
   "id": "93cd0cac-7e69-448a-b044-48f967ab0fb5",
   "metadata": {},
   "outputs": [],
   "source": []
  },
  {
   "cell_type": "code",
   "execution_count": null,
   "id": "c5495b3e-fd44-4d99-b4b8-0ad6872f6500",
   "metadata": {},
   "outputs": [],
   "source": []
  },
  {
   "cell_type": "code",
   "execution_count": null,
   "id": "8908bf48-f2f2-4d14-95d2-19229a30354d",
   "metadata": {},
   "outputs": [],
   "source": []
  },
  {
   "cell_type": "code",
   "execution_count": null,
   "id": "bf16cbda-953d-49ca-bbc0-e6c2ec069c4c",
   "metadata": {},
   "outputs": [],
   "source": []
  },
  {
   "cell_type": "code",
   "execution_count": null,
   "id": "71eaccb9-b55b-403c-96cf-350e9e8ecc9a",
   "metadata": {},
   "outputs": [],
   "source": []
  },
  {
   "cell_type": "code",
   "execution_count": null,
   "id": "1ef44ee4-0999-4c8a-910f-95bd9b6ff5ea",
   "metadata": {},
   "outputs": [],
   "source": []
  },
  {
   "cell_type": "code",
   "execution_count": null,
   "id": "cb027331-954f-4e93-b036-d4dd82d45bad",
   "metadata": {},
   "outputs": [],
   "source": []
  },
  {
   "cell_type": "code",
   "execution_count": null,
   "id": "d756cb3f-a43d-4caa-b642-2a196bac90d5",
   "metadata": {},
   "outputs": [],
   "source": []
  },
  {
   "cell_type": "code",
   "execution_count": null,
   "id": "ed047a58-fdae-4415-8a17-5e04fefa7882",
   "metadata": {},
   "outputs": [],
   "source": []
  },
  {
   "cell_type": "code",
   "execution_count": null,
   "id": "57b3c2cc-85d8-4399-8f91-3395f49a8b78",
   "metadata": {},
   "outputs": [],
   "source": []
  },
  {
   "cell_type": "code",
   "execution_count": null,
   "id": "33e904b1-9f9b-4ac6-b752-3c0c81ee3e17",
   "metadata": {},
   "outputs": [],
   "source": []
  },
  {
   "cell_type": "code",
   "execution_count": null,
   "id": "7c0594c6-14a2-4225-9581-036c81e3f570",
   "metadata": {},
   "outputs": [],
   "source": []
  },
  {
   "cell_type": "code",
   "execution_count": null,
   "id": "af47f1d7-7dc4-4ad5-aad7-aa0defd6726e",
   "metadata": {},
   "outputs": [],
   "source": []
  },
  {
   "cell_type": "code",
   "execution_count": null,
   "id": "eb1b4c16-a040-4a84-bd0e-30729cc39229",
   "metadata": {},
   "outputs": [],
   "source": []
  },
  {
   "cell_type": "code",
   "execution_count": null,
   "id": "14a6281f-57b0-4471-a785-17d8dc51a159",
   "metadata": {},
   "outputs": [],
   "source": []
  },
  {
   "cell_type": "code",
   "execution_count": null,
   "id": "7a311dc3-be0d-40f5-83e4-574666775b67",
   "metadata": {},
   "outputs": [],
   "source": []
  }
 ],
 "metadata": {
  "kernelspec": {
   "display_name": "Python 3 (ipykernel)",
   "language": "python",
   "name": "python3"
  },
  "language_info": {
   "codemirror_mode": {
    "name": "ipython",
    "version": 3
   },
   "file_extension": ".py",
   "mimetype": "text/x-python",
   "name": "python",
   "nbconvert_exporter": "python",
   "pygments_lexer": "ipython3",
   "version": "3.10.8"
  }
 },
 "nbformat": 4,
 "nbformat_minor": 5
}
